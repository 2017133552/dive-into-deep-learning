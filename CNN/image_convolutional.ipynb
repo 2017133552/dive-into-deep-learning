{
 "cells": [
  {
   "cell_type": "code",
   "execution_count": 9,
   "metadata": {},
   "outputs": [],
   "source": [
    "import torch\n",
    "import torch.nn as nn\n",
    "\n",
    "\n",
    "def corr2d(X,K):#@save\n",
    "    '''二维互相关运算'''\n",
    "    h,w=K.shape\n",
    "    #经过卷积之后图片的大小\n",
    "    Y=torch.zeros(X.shape[0]-h+1,X.shape[1]-w+1)\n",
    "    for i in range(Y.shape[0]):\n",
    "        for j in range(Y.shape[1]):\n",
    "            Y[i][j]=(X[i:i+h,j:j+w]*K).sum()\n",
    "    return Y"
   ]
  },
  {
   "cell_type": "code",
   "execution_count": 10,
   "metadata": {},
   "outputs": [
    {
     "data": {
      "text/plain": [
       "tensor([[19., 25.],\n",
       "        [37., 43.]])"
      ]
     },
     "execution_count": 10,
     "metadata": {},
     "output_type": "execute_result"
    }
   ],
   "source": [
    "X=torch.tensor([[0,1,2],[3,4,5],[6,7,8]])\n",
    "K=torch.tensor([[0,1],[2,3]])\n",
    "output=corr2d(X,K)\n",
    "output"
   ]
  },
  {
   "cell_type": "code",
   "execution_count": null,
   "metadata": {},
   "outputs": [],
   "source": [
    "class Conv2D(nn.Module):\n",
    "    def __init__(self, kernel_size) -> None:\n",
    "        super(Conv2D).__init__()\n",
    "        self.weight=nn.Parameter(torch.rand(kernel_size))#torch.nn.Parameter()将一个不可训练的tensor转换成可以训练的类型parameter，并将这个parameter绑定到这个module里面。即在定义网络时这个tensor就是一个可以训练的参数了。使用这个函数的目的也是想让某些变量在学习的过程中不断的修改其值以达到最优化。\n",
    "        self.bias=nn.Parameter(torch.zeros(1))\n",
    "\n",
    "    def forward(self,x):\n",
    "        return corr2d(x,self.weight)+self.bias"
   ]
  },
  {
   "cell_type": "code",
   "execution_count": 13,
   "metadata": {},
   "outputs": [
    {
     "data": {
      "text/plain": [
       "tensor([[1., 1., 0., 0., 0., 0., 1., 1.],\n",
       "        [1., 1., 0., 0., 0., 0., 1., 1.],\n",
       "        [1., 1., 0., 0., 0., 0., 1., 1.],\n",
       "        [1., 1., 0., 0., 0., 0., 1., 1.],\n",
       "        [1., 1., 0., 0., 0., 0., 1., 1.],\n",
       "        [1., 1., 0., 0., 0., 0., 1., 1.]])"
      ]
     },
     "execution_count": 13,
     "metadata": {},
     "output_type": "execute_result"
    }
   ],
   "source": [
    "X=torch.zeros((6,8))\n",
    "X[:,0:2]=1\n",
    "X[:,6:8]=1\n",
    "X\n"
   ]
  },
  {
   "cell_type": "code",
   "execution_count": 15,
   "metadata": {},
   "outputs": [
    {
     "data": {
      "text/plain": [
       "tensor([[ 0.,  1.,  0.,  0.,  0., -1.,  0.],\n",
       "        [ 0.,  1.,  0.,  0.,  0., -1.,  0.],\n",
       "        [ 0.,  1.,  0.,  0.,  0., -1.,  0.],\n",
       "        [ 0.,  1.,  0.,  0.,  0., -1.,  0.],\n",
       "        [ 0.,  1.,  0.,  0.,  0., -1.,  0.],\n",
       "        [ 0.,  1.,  0.,  0.,  0., -1.,  0.]])"
      ]
     },
     "execution_count": 15,
     "metadata": {},
     "output_type": "execute_result"
    }
   ],
   "source": [
    "K=torch.tensor([[1,-1]])\n",
    "Y=corr2d(X,K)\n",
    "Y# 检测到竖直的边缘"
   ]
  },
  {
   "cell_type": "code",
   "execution_count": 16,
   "metadata": {},
   "outputs": [
    {
     "data": {
      "text/plain": [
       "tensor([[0., 0., 0., 0., 0.],\n",
       "        [0., 0., 0., 0., 0.],\n",
       "        [0., 0., 0., 0., 0.],\n",
       "        [0., 0., 0., 0., 0.],\n",
       "        [0., 0., 0., 0., 0.],\n",
       "        [0., 0., 0., 0., 0.],\n",
       "        [0., 0., 0., 0., 0.],\n",
       "        [0., 0., 0., 0., 0.]])"
      ]
     },
     "execution_count": 16,
     "metadata": {},
     "output_type": "execute_result"
    }
   ],
   "source": [
    "corr2d(X.T,K)"
   ]
  },
  {
   "cell_type": "code",
   "execution_count": 19,
   "metadata": {},
   "outputs": [
    {
     "name": "stdout",
     "output_type": "stream",
     "text": [
      "epoch 2 ,loss 1.283\n",
      "epoch 4 ,loss 0.235\n",
      "epoch 6 ,loss 0.047\n",
      "epoch 8 ,loss 0.011\n",
      "epoch 10 ,loss 0.003\n",
      "epoch 12 ,loss 0.001\n",
      "epoch 14 ,loss 0.000\n",
      "epoch 16 ,loss 0.000\n",
      "epoch 18 ,loss 0.000\n",
      "epoch 20 ,loss 0.000\n",
      "epoch 22 ,loss 0.000\n",
      "epoch 24 ,loss 0.000\n",
      "epoch 26 ,loss 0.000\n",
      "epoch 28 ,loss 0.000\n",
      "epoch 30 ,loss 0.000\n"
     ]
    }
   ],
   "source": [
    "conv2d=nn.Conv2d(1,1,kernel_size=(1,2),bias=False)\n",
    "X=X.reshape((1,1,6,8))\n",
    "Y=Y.reshape((1,1,6,7))#第一维度是批量，第二维度是通道数\n",
    "lr=3e-2\n",
    "\n",
    "for i in range(30):\n",
    "    Y_hat=conv2d(X)\n",
    "    loss=(Y-Y_hat)**2\n",
    "    conv2d.zero_grad()\n",
    "    loss.sum().backward()\n",
    "    conv2d.weight.data[:]-=lr*conv2d.weight.grad\n",
    "    if (i+1)%2==0:\n",
    "        print(f\"epoch {i+1} ,loss {loss.sum():.3f}\")\n"
   ]
  },
  {
   "cell_type": "code",
   "execution_count": 21,
   "metadata": {},
   "outputs": [
    {
     "data": {
      "text/plain": [
       "tensor([[ 1.0001, -0.9999]])"
      ]
     },
     "execution_count": 21,
     "metadata": {},
     "output_type": "execute_result"
    }
   ],
   "source": [
    "conv2d.weight.data.reshape(1,2)"
   ]
  },
  {
   "cell_type": "code",
   "execution_count": 23,
   "metadata": {},
   "outputs": [
    {
     "data": {
      "text/plain": [
       "torch.Size([8, 8])"
      ]
     },
     "execution_count": 23,
     "metadata": {},
     "output_type": "execute_result"
    }
   ],
   "source": [
    "import torch\n",
    "from torch import nn\n",
    "def comp_conv2d(conv2d,X):\n",
    "    X=X.reshape((1,1)+X.shape)\n",
    "    Y=conv2d(X)\n",
    "\n",
    "    return Y.reshape(Y.shape[2:])\n",
    "\n",
    "conv2d=nn.Conv2d(1,1,kernel_size=3,padding=1)\n",
    "X=torch.rand(size=(8,8))\n",
    "comp_conv2d(conv2d,X).shape"
   ]
  },
  {
   "cell_type": "code",
   "execution_count": 25,
   "metadata": {},
   "outputs": [
    {
     "data": {
      "text/plain": [
       "torch.Size([8, 8])"
      ]
     },
     "execution_count": 25,
     "metadata": {},
     "output_type": "execute_result"
    }
   ],
   "source": [
    "\n",
    "# 默认情况下，填充为0，步幅为1，通常使用步幅一致，填充一致的；注意，在输入图像的边缘填充元素（通常填的元素是0）\n",
    "conv2d=nn.Conv2d(1,1,kernel_size=(5,3),padding=(2,1))\n",
    "X=torch.rand(size=(8,8))\n",
    "comp_conv2d(conv2d,X).shape"
   ]
  },
  {
   "cell_type": "code",
   "execution_count": 26,
   "metadata": {},
   "outputs": [
    {
     "data": {
      "text/plain": [
       "torch.Size([4, 4])"
      ]
     },
     "execution_count": 26,
     "metadata": {},
     "output_type": "execute_result"
    }
   ],
   "source": [
    "conv2d=nn.Conv2d(1,1,kernel_size=(3,3),padding=1,stride=2)\n",
    "comp_conv2d(conv2d,X).shape"
   ]
  },
  {
   "cell_type": "code",
   "execution_count": 27,
   "metadata": {},
   "outputs": [
    {
     "data": {
      "text/plain": [
       "torch.Size([2, 2])"
      ]
     },
     "execution_count": 27,
     "metadata": {},
     "output_type": "execute_result"
    }
   ],
   "source": [
    "conv2d=nn.Conv2d(1,1,kernel_size=(3,5),padding=(0,1),stride=(3,4))\n",
    "comp_conv2d(conv2d,X).shape"
   ]
  },
  {
   "cell_type": "code",
   "execution_count": 35,
   "metadata": {},
   "outputs": [
    {
     "data": {
      "text/plain": [
       "torch.Size([2, 2, 2])"
      ]
     },
     "execution_count": 35,
     "metadata": {},
     "output_type": "execute_result"
    }
   ],
   "source": [
    "import torch\n",
    "def corr2d_muti_in(X,K):\n",
    "    ans=[]\n",
    "    for x,k in zip(X,K):\n",
    "        ans.append(corr2d(x,k))\n",
    "    return sum(ans)\n",
    "\n",
    "X=torch.tensor([[[0,1,2],[3,4,5],[6,7,8]],[[1,2,3],[4,5,6],[7,8,9]]])\n",
    "X.shape\n",
    "K=torch.tensor([[[0,1],[2,3]],[[1,2],[3,4]]])\n",
    "K.shape"
   ]
  },
  {
   "cell_type": "code",
   "execution_count": 36,
   "metadata": {},
   "outputs": [
    {
     "data": {
      "text/plain": [
       "tensor([[ 56.,  72.],\n",
       "        [104., 120.]])"
      ]
     },
     "execution_count": 36,
     "metadata": {},
     "output_type": "execute_result"
    }
   ],
   "source": [
    "corr2d_muti_in(X,K)"
   ]
  },
  {
   "cell_type": "code",
   "execution_count": 37,
   "metadata": {},
   "outputs": [
    {
     "data": {
      "text/plain": [
       "torch.Size([3, 2, 2, 2])"
      ]
     },
     "execution_count": 37,
     "metadata": {},
     "output_type": "execute_result"
    }
   ],
   "source": [
    "def corr2d_muti_in_out(X,K):\n",
    "    ans=[]\n",
    "    for k in K:\n",
    "        ans.append(corr2d_muti_in(X,k))\n",
    "    return torch.stack(ans,dim=0)\n",
    "\n",
    "K=torch.stack((K,K+1,K+2),dim=0)\n",
    "K.shape"
   ]
  },
  {
   "cell_type": "code",
   "execution_count": 39,
   "metadata": {},
   "outputs": [
    {
     "data": {
      "text/plain": [
       "torch.Size([3, 2, 2])"
      ]
     },
     "execution_count": 39,
     "metadata": {},
     "output_type": "execute_result"
    }
   ],
   "source": [
    "ans=corr2d_muti_in_out(X,K)\n",
    "ans.shape"
   ]
  },
  {
   "cell_type": "code",
   "execution_count": 40,
   "metadata": {},
   "outputs": [
    {
     "name": "stdout",
     "output_type": "stream",
     "text": [
      "X=  tensor([[[ 2.0955,  0.5396, -1.2539],\n",
      "         [-0.4471, -0.5789,  2.5363],\n",
      "         [-1.0253,  0.8725, -0.4782]],\n",
      "\n",
      "        [[ 0.5406, -1.7492, -2.0460],\n",
      "         [ 0.5558,  1.8927,  0.2620],\n",
      "         [ 1.1124, -2.3521, -1.3561]],\n",
      "\n",
      "        [[-0.2961,  1.2635,  2.7274],\n",
      "         [-1.7963, -0.3104, -0.0049],\n",
      "         [ 0.6914,  0.4982,  1.7750]]])\n",
      "K = tensor([[[[-1.7657]],\n",
      "\n",
      "         [[ 0.8298]],\n",
      "\n",
      "         [[-1.3106]]],\n",
      "\n",
      "\n",
      "        [[[ 0.4125]],\n",
      "\n",
      "         [[ 0.8901]],\n",
      "\n",
      "         [[-0.3528]]]])\n"
     ]
    }
   ],
   "source": [
    "#卷积的本质是有效提取相邻像素之间的相关特征：在高度和宽度维度上，实现识别相邻元素之间相互作用的能力\n",
    "def corr2d_muti_in_out_1x1(X,K):\n",
    "    ci,h,w=X.shape\n",
    "    co=K.shape[0]\n",
    "    X=X.reshape((ci,h*w))\n",
    "    K=K.reshape((co,ci))\n",
    "    Y=torch.matmul(K,X)\n",
    "    return Y.reshape(co,h,w)#注意，1*1卷积核不会改变图像的高和宽，只会改变图像的通道数目\n",
    "X=torch.normal(0,1,(3,3,3))\n",
    "print(\"X= \",X)\n",
    "K=torch.normal(0,1,(2,3,1,1))\n",
    "print(\"K =\",K)\n",
    "Y1=corr2d_muti_in_out_1x1(X,K)"
   ]
  },
  {
   "cell_type": "code",
   "execution_count": 41,
   "metadata": {},
   "outputs": [
    {
     "name": "stdout",
     "output_type": "stream",
     "text": [
      "tensor([[[-2.8634, -4.0601, -3.0581],\n",
      "         [ 3.6048,  2.9995, -4.2545],\n",
      "         [ 1.8273, -4.1452, -2.6072]],\n",
      "\n",
      "        [[ 1.4501, -1.7800, -3.3006],\n",
      "         [ 0.9440,  1.5553,  1.2812],\n",
      "         [ 0.3232, -1.9094, -2.0306]]])\n"
     ]
    }
   ],
   "source": [
    "Y2=corr2d_muti_in_out(X,K)\n",
    "print(Y1)"
   ]
  },
  {
   "cell_type": "code",
   "execution_count": 42,
   "metadata": {},
   "outputs": [
    {
     "name": "stdout",
     "output_type": "stream",
     "text": [
      "tensor([[[-2.8634, -4.0601, -3.0581],\n",
      "         [ 3.6048,  2.9995, -4.2545],\n",
      "         [ 1.8273, -4.1452, -2.6072]],\n",
      "\n",
      "        [[ 1.4501, -1.7800, -3.3006],\n",
      "         [ 0.9440,  1.5553,  1.2812],\n",
      "         [ 0.3232, -1.9094, -2.0306]]])\n"
     ]
    }
   ],
   "source": [
    "print(Y2)"
   ]
  },
  {
   "cell_type": "code",
   "execution_count": 47,
   "metadata": {},
   "outputs": [
    {
     "ename": "AssertionError",
     "evalue": "False",
     "output_type": "error",
     "traceback": [
      "\u001b[1;31m---------------------------------------------------------------------------\u001b[0m",
      "\u001b[1;31mAssertionError\u001b[0m                            Traceback (most recent call last)",
      "Cell \u001b[1;32mIn[47], line 1\u001b[0m\n\u001b[1;32m----> 1\u001b[0m \u001b[38;5;28;01massert\u001b[39;00m \u001b[38;5;28mfloat\u001b[39m(torch\u001b[38;5;241m.\u001b[39mabs(Y1\u001b[38;5;241m-\u001b[39mY2)\u001b[38;5;241m.\u001b[39msum())\u001b[38;5;241m+\u001b[39m\u001b[38;5;241m1\u001b[39m\u001b[38;5;241m<\u001b[39m\u001b[38;5;241m1e-7\u001b[39m,\u001b[38;5;124m\"\u001b[39m\u001b[38;5;124mFalse\u001b[39m\u001b[38;5;124m\"\u001b[39m\n",
      "\u001b[1;31mAssertionError\u001b[0m: False"
     ]
    }
   ],
   "source": [
    "assert float(torch.abs(Y1-Y2).sum())<1e-7,\"为假时的报错信息写在这里\""
   ]
  },
  {
   "cell_type": "code",
   "execution_count": 59,
   "metadata": {},
   "outputs": [
    {
     "data": {
      "text/plain": [
       "tensor([[0, 1, 2],\n",
       "        [3, 4, 5],\n",
       "        [6, 7, 8]])"
      ]
     },
     "execution_count": 59,
     "metadata": {},
     "output_type": "execute_result"
    }
   ],
   "source": [
    "def pool2d(X,pool_size,mode=\"max\"):\n",
    "    p_h,p_w=pool_size\n",
    "    Y=torch.zeros(X.shape[0]-p_h+1,X.shape[1]-p_w+1)\n",
    "    for i in range(Y.shape[0]):\n",
    "        for j in range(Y.shape[1]):\n",
    "            if mode==\"max\":\n",
    "               # print(\"X[i:i+p_h][j:j+p_w]\",X[i:i+p_h])#X[i:i+p_h][j:j+p_w]：这种嵌套切片容易出错，因为第一步切片操作返回的是中间结果，第二步在中间结果上继续切片，容易导致选择的范围与预期不符。\n",
    "                Y[i,j]=X[i:i+p_h,j:j+p_w].max()\n",
    "            else:\n",
    "                Y[i,j]=X[i:i+p_h,j:j+p_w].mean()\n",
    "    return Y\n",
    "\n",
    "X=torch.tensor([[0,1,2],[3,4,5],[6,7,8]])\n",
    "pool2d(X,(2,2),\"max\")\n",
    "X"
   ]
  },
  {
   "cell_type": "code",
   "execution_count": 60,
   "metadata": {},
   "outputs": [
    {
     "ename": "RuntimeError",
     "evalue": "mean(): could not infer output dtype. Input dtype must be either a floating point or complex dtype. Got: Long",
     "output_type": "error",
     "traceback": [
      "\u001b[1;31m---------------------------------------------------------------------------\u001b[0m",
      "\u001b[1;31mRuntimeError\u001b[0m                              Traceback (most recent call last)",
      "Cell \u001b[1;32mIn[60], line 1\u001b[0m\n\u001b[1;32m----> 1\u001b[0m \u001b[43mpool2d\u001b[49m\u001b[43m(\u001b[49m\u001b[43mX\u001b[49m\u001b[43m,\u001b[49m\u001b[43m(\u001b[49m\u001b[38;5;241;43m2\u001b[39;49m\u001b[43m,\u001b[49m\u001b[38;5;241;43m2\u001b[39;49m\u001b[43m)\u001b[49m\u001b[43m,\u001b[49m\u001b[38;5;124;43m\"\u001b[39;49m\u001b[38;5;124;43mavg\u001b[39;49m\u001b[38;5;124;43m\"\u001b[39;49m\u001b[43m)\u001b[49m\n",
      "Cell \u001b[1;32mIn[59], line 10\u001b[0m, in \u001b[0;36mpool2d\u001b[1;34m(X, pool_size, mode)\u001b[0m\n\u001b[0;32m      8\u001b[0m             Y[i,j]\u001b[38;5;241m=\u001b[39mX[i:i\u001b[38;5;241m+\u001b[39mp_h,j:j\u001b[38;5;241m+\u001b[39mp_w]\u001b[38;5;241m.\u001b[39mmax()\n\u001b[0;32m      9\u001b[0m         \u001b[38;5;28;01melse\u001b[39;00m:\n\u001b[1;32m---> 10\u001b[0m             Y[i,j]\u001b[38;5;241m=\u001b[39m\u001b[43mX\u001b[49m\u001b[43m[\u001b[49m\u001b[43mi\u001b[49m\u001b[43m:\u001b[49m\u001b[43mi\u001b[49m\u001b[38;5;241;43m+\u001b[39;49m\u001b[43mp_h\u001b[49m\u001b[43m,\u001b[49m\u001b[43mj\u001b[49m\u001b[43m:\u001b[49m\u001b[43mj\u001b[49m\u001b[38;5;241;43m+\u001b[39;49m\u001b[43mp_w\u001b[49m\u001b[43m]\u001b[49m\u001b[38;5;241;43m.\u001b[39;49m\u001b[43mmean\u001b[49m\u001b[43m(\u001b[49m\u001b[43m)\u001b[49m\n\u001b[0;32m     11\u001b[0m \u001b[38;5;28;01mreturn\u001b[39;00m Y\n",
      "\u001b[1;31mRuntimeError\u001b[0m: mean(): could not infer output dtype. Input dtype must be either a floating point or complex dtype. Got: Long"
     ]
    }
   ],
   "source": [
    "pool2d(X,(2,2),\"avg\")"
   ]
  },
  {
   "cell_type": "code",
   "execution_count": 61,
   "metadata": {},
   "outputs": [
    {
     "data": {
      "text/plain": [
       "tensor([[2., 3.],\n",
       "        [5., 6.]])"
      ]
     },
     "execution_count": 61,
     "metadata": {},
     "output_type": "execute_result"
    }
   ],
   "source": [
    "X=torch.tensor([[0.0,1.0,2.0],[3.0,4.0,5.0],[6.0,7.0,8.0]])\n",
    "pool2d(X,(2,2),\"avg\")#注意，输入不能是长整型"
   ]
  },
  {
   "cell_type": "code",
   "execution_count": 71,
   "metadata": {},
   "outputs": [
    {
     "data": {
      "text/plain": [
       "tensor([[[[ 0.,  1.,  2.,  3.],\n",
       "          [ 4.,  5.,  6.,  7.],\n",
       "          [ 8.,  9., 10., 11.],\n",
       "          [12., 13., 14., 15.]]]])"
      ]
     },
     "execution_count": 71,
     "metadata": {},
     "output_type": "execute_result"
    }
   ],
   "source": [
    "X=torch.arange(16,dtype=torch.float32).reshape((1,1,4,4))\n",
    "X"
   ]
  },
  {
   "cell_type": "code",
   "execution_count": 63,
   "metadata": {},
   "outputs": [
    {
     "data": {
      "text/plain": [
       "tensor([[[[10.]]]])"
      ]
     },
     "execution_count": 63,
     "metadata": {},
     "output_type": "execute_result"
    }
   ],
   "source": [
    "pool2d=nn.MaxPool2d(3)\n",
    "pool2d(X)"
   ]
  },
  {
   "cell_type": "code",
   "execution_count": 73,
   "metadata": {},
   "outputs": [
    {
     "data": {
      "text/plain": [
       "tensor([[[[ 5.,  7.],\n",
       "          [13., 15.]],\n",
       "\n",
       "         [[ 6.,  8.],\n",
       "          [14., 16.]]]])"
      ]
     },
     "execution_count": 73,
     "metadata": {},
     "output_type": "execute_result"
    }
   ],
   "source": [
    "pool2d=nn.MaxPool2d(3,padding=1,stride=2)\n",
    "pool2d(X)"
   ]
  },
  {
   "cell_type": "code",
   "execution_count": 66,
   "metadata": {},
   "outputs": [
    {
     "data": {
      "text/plain": [
       "tensor([[[[ 5.,  7.],\n",
       "          [13., 15.]]]])"
      ]
     },
     "execution_count": 66,
     "metadata": {},
     "output_type": "execute_result"
    }
   ],
   "source": [
    "pool2d=nn.MaxPool2d((2,3),stride=(2,3),padding=(0,1))\n",
    "pool2d(X)"
   ]
  },
  {
   "cell_type": "code",
   "execution_count": 72,
   "metadata": {},
   "outputs": [
    {
     "name": "stdout",
     "output_type": "stream",
     "text": [
      "torch.Size([1, 2, 4, 4])\n",
      "torch.Size([1, 2, 2, 2])\n"
     ]
    }
   ],
   "source": [
    "X=torch.cat((X,X+1),dim=1)#批量，通道，h，w\n",
    "pool2d=nn.MaxPool2d(3,padding=1,stride=2)\n",
    "print(X.shape)\n",
    "print(pool2d(X).shape)"
   ]
  },
  {
   "cell_type": "code",
   "execution_count": 1,
   "metadata": {},
   "outputs": [
    {
     "data": {
      "text/plain": [
       "[12, 1, 2, 5, None]"
      ]
     },
     "execution_count": 1,
     "metadata": {},
     "output_type": "execute_result"
    }
   ],
   "source": [
    "a=[12,1,2,5]\n",
    "a.append(None)\n",
    "a"
   ]
  },
  {
   "cell_type": "code",
   "execution_count": null,
   "metadata": {},
   "outputs": [],
   "source": []
  }
 ],
 "metadata": {
  "kernelspec": {
   "display_name": "opendl",
   "language": "python",
   "name": "python3"
  },
  "language_info": {
   "codemirror_mode": {
    "name": "ipython",
    "version": 3
   },
   "file_extension": ".py",
   "mimetype": "text/x-python",
   "name": "python",
   "nbconvert_exporter": "python",
   "pygments_lexer": "ipython3",
   "version": "3.11.8"
  }
 },
 "nbformat": 4,
 "nbformat_minor": 2
}
